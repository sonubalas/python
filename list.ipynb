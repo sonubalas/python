{
 "cells": [
  {
   "cell_type": "code",
   "execution_count": 11,
   "id": "8e830b4d-1d12-442c-a9ad-0804b025e254",
   "metadata": {},
   "outputs": [
    {
     "name": "stdout",
     "output_type": "stream",
     "text": [
      "['ABC']\n"
     ]
    }
   ],
   "source": [
    "#list ==>>\n",
    "b=[]\n",
    "for x in [10,20,30,40,50,\"ABC\"]:\n",
    "    if type(x) is str:\n",
    "        b.append(x)\n",
    "print(b)"
   ]
  },
  {
   "cell_type": "code",
   "execution_count": 245,
   "id": "05300e60-a4a4-4145-8e1b-ca0a1508d73a",
   "metadata": {},
   "outputs": [
    {
     "name": "stdout",
     "output_type": "stream",
     "text": [
      "[60, 50, 40, 30, 20, 10]\n"
     ]
    }
   ],
   "source": [
    "mylist=[10,20,30,40,50,60]\n",
    "start=0\n",
    "right=len(mylist)-1\n",
    "while(start<right):\n",
    "    temp=mylist[start]\n",
    "    mylist[start]=mylist[right]\n",
    "    mylist[right]=temp\n",
    "    start+=1\n",
    "    right-=1\n",
    "print(mylist)"
   ]
  },
  {
   "cell_type": "code",
   "execution_count": 247,
   "id": "1420841e-1ad3-4570-9183-3499d956f56e",
   "metadata": {},
   "outputs": [
    {
     "ename": "IndentationError",
     "evalue": "expected an indented block after 'while' statement on line 5 (47102047.py, line 6)",
     "output_type": "error",
     "traceback": [
      "\u001b[1;36m  Cell \u001b[1;32mIn[247], line 6\u001b[1;36m\u001b[0m\n\u001b[1;33m    mylist[i]=mylist[len(mylist)-1-i]\u001b[0m\n\u001b[1;37m    ^\u001b[0m\n\u001b[1;31mIndentationError\u001b[0m\u001b[1;31m:\u001b[0m expected an indented block after 'while' statement on line 5\n"
     ]
    }
   ],
   "source": [
    "mylist=[10,20,30,40,50]\n",
    "mid=len(mylist)//2\n",
    "i=0\n",
    "\n",
    "while(i<mid):\n",
    "mylist[i]=mylist[len(mylist)-1-i]\n",
    "print(mylist)"
   ]
  },
  {
   "cell_type": "code",
   "execution_count": null,
   "id": "69756fed-9741-4dce-928e-1a17d3be0e7d",
   "metadata": {},
   "outputs": [],
   "source": []
  },
  {
   "cell_type": "code",
   "execution_count": null,
   "id": "9a1a6df6-717d-4660-af7e-6ff253ffe0a6",
   "metadata": {},
   "outputs": [],
   "source": [
    "mylist=[\"saras\"]\n",
    "start=0\n",
    "end=len(s)-1\n",
    "while start<end:\n",
    "    if mylist[start]=mylist[end]\n",
    "    start=start+1\n",
    "    end=end-1\n",
    "    ontinue:\n",
    "else:\n",
    "    break:\n",
    "    \n",
    "\n"
   ]
  },
  {
   "cell_type": "code",
   "execution_count": 3,
   "id": "618210b1-8c4f-4232-8b79-af7f316dc33d",
   "metadata": {},
   "outputs": [
    {
     "name": "stdout",
     "output_type": "stream",
     "text": [
      "[10, 20, 30, 40, 'hello']\n"
     ]
    }
   ],
   "source": [
    "\n",
    "mylist=[10,20,30,40,\"hello\"]\n",
    "print(mylist)"
   ]
  },
  {
   "cell_type": "code",
   "execution_count": 9,
   "id": "ea799ceb-5fa6-46c4-95c6-204a4d73c073",
   "metadata": {},
   "outputs": [
    {
     "name": "stdout",
     "output_type": "stream",
     "text": [
      "<class 'list'>\n"
     ]
    }
   ],
   "source": [
    "mylist\n",
    "print(type(mylist))"
   ]
  },
  {
   "cell_type": "code",
   "execution_count": 27,
   "id": "0a133970-b112-4afc-887c-0838bf92b03e",
   "metadata": {},
   "outputs": [
    {
     "name": "stdout",
     "output_type": "stream",
     "text": [
      "[10, 20, 30, 40, 'hii', 10]\n"
     ]
    }
   ],
   "source": [
    "mylist=[10,20,30,40,\"hii\"]\n",
    "mylist.append(10)\n",
    "print(mylist)\n"
   ]
  },
  {
   "cell_type": "code",
   "execution_count": 49,
   "id": "6bf7d5eb-489f-434b-8d28-0d03ca78caf6",
   "metadata": {},
   "outputs": [
    {
     "name": "stdout",
     "output_type": "stream",
     "text": [
      "[10, 8, 30, 30, 'abc', 'a', 'b', 'c']\n"
     ]
    }
   ],
   "source": [
    "mylist=[10,8,30,30,'abc']\n",
    "mylist.extend('abc')\n",
    "print(mylist)"
   ]
  },
  {
   "cell_type": "code",
   "execution_count": 53,
   "id": "232cf638-8e8d-44ec-8e3d-e9ee17c30e6d",
   "metadata": {},
   "outputs": [
    {
     "name": "stdout",
     "output_type": "stream",
     "text": [
      "[10, 8, 30, 30, 'abc', 15, 25, 45, 'abc']\n"
     ]
    }
   ],
   "source": [
    "mylist=[10,8,30,30,'abc']\n",
    "mylist.extend([15,25,45,'abc'])\n",
    "print(mylist)"
   ]
  },
  {
   "cell_type": "code",
   "execution_count": 85,
   "id": "e69788f2-09b0-4cad-a8d9-6d4dc079846a",
   "metadata": {},
   "outputs": [
    {
     "name": "stdout",
     "output_type": "stream",
     "text": [
      "[10, 20, 30, 50]\n",
      "45\n"
     ]
    }
   ],
   "source": [
    "mylist=[10,20,30,50,45]\n",
    "z=mylist.pop()\n",
    "print(mylist)\n",
    "print(z)\n"
   ]
  },
  {
   "cell_type": "code",
   "execution_count": 93,
   "id": "0a9bba29-10e8-471d-ba01-6b8a87c2a60d",
   "metadata": {},
   "outputs": [
    {
     "name": "stdout",
     "output_type": "stream",
     "text": [
      "[10, 70, 30, 40, 'hello']\n"
     ]
    }
   ],
   "source": [
    "mylist=[10,20,30,40,\"hello\"]\n",
    "mylist[1]=70\n",
    "print(mylist)"
   ]
  },
  {
   "cell_type": "code",
   "execution_count": 105,
   "id": "e5ea41a0-eb39-4af3-b1e1-32cf2575e773",
   "metadata": {},
   "outputs": [
    {
     "name": "stdout",
     "output_type": "stream",
     "text": [
      "[10, 'yesh', 20, 40, 'hello']\n"
     ]
    }
   ],
   "source": [
    "mylist=[10,20,40,\"hello\"]\n",
    "mylist.insert(1,\"yesh\")\n",
    "print(mylist)"
   ]
  },
  {
   "cell_type": "code",
   "execution_count": 109,
   "id": "d196a307-d704-4598-8fd8-aed75e7ad17d",
   "metadata": {},
   "outputs": [
    {
     "name": "stdout",
     "output_type": "stream",
     "text": [
      "[10, 30, 40, 'hello']\n"
     ]
    }
   ],
   "source": [
    "mylist=[10,20,30,40,\"hello\"]\n",
    "mylist.remove(20)\n",
    "print(mylist)"
   ]
  },
  {
   "cell_type": "code",
   "execution_count": 111,
   "id": "6e61234f-97fd-4468-b581-c1eb07746182",
   "metadata": {},
   "outputs": [
    {
     "data": {
      "text/plain": [
       "[20, 30]"
      ]
     },
     "execution_count": 111,
     "metadata": {},
     "output_type": "execute_result"
    }
   ],
   "source": [
    "mylist=[10,20,30,40,\"hello\"]\n",
    "mylist[1:3]"
   ]
  },
  {
   "cell_type": "code",
   "execution_count": 115,
   "id": "5dea42e6-4ee5-422d-82fe-2b546656af31",
   "metadata": {},
   "outputs": [
    {
     "data": {
      "text/plain": [
       "5"
      ]
     },
     "execution_count": 115,
     "metadata": {},
     "output_type": "execute_result"
    }
   ],
   "source": [
    "mylist=[10,20,30,40,\"hello\"]\n",
    "len(mylist)"
   ]
  },
  {
   "cell_type": "code",
   "execution_count": 161,
   "id": "52c9a2f3-ba5a-48b9-822e-446c32fe3fff",
   "metadata": {},
   "outputs": [
    {
     "name": "stdout",
     "output_type": "stream",
     "text": [
      "20\n",
      "30\n",
      "40\n",
      "15\n",
      "hello\n"
     ]
    }
   ],
   "source": [
    "mylist=[20,30,40,15,\"hello\"]\n",
    "len(mylist)\n",
    "\n",
    "count=0\n",
    "while(count<5):\n",
    "    print(mylist[count])\n",
    "    count+=1\n"
   ]
  },
  {
   "cell_type": "code",
   "execution_count": 193,
   "id": "16b0864c-c50d-4e3f-b4ff-420293a67ddd",
   "metadata": {},
   "outputs": [
    {
     "name": "stdout",
     "output_type": "stream",
     "text": [
      "[400, 900, 1600, 225, 2025]\n"
     ]
    }
   ],
   "source": [
    "mylist=[20,30,40,15,\"hello\",45]\n",
    "newlist=[]\n",
    "for i in mylist:\n",
    "    if(type(i) is int):\n",
    "        newlist.append(i**2)\n",
    "print(newlist)"
   ]
  },
  {
   "cell_type": "code",
   "execution_count": 227,
   "id": "da739ad0-fec3-437f-ba3c-cc26e6f19d5e",
   "metadata": {},
   "outputs": [
    {
     "name": "stdout",
     "output_type": "stream",
     "text": [
      "[400]\n",
      "[400, 900]\n",
      "[400, 900, 1600]\n",
      "[400, 900, 1600, 225]\n",
      "[400, 900, 1600, 225, 2025]\n"
     ]
    }
   ],
   "source": [
    "mylist=[20,23.5,30,40,15,\"hello\",45]\n",
    "newlist=[]\n",
    "for i in mylist:\n",
    "    if(type(i) is int):\n",
    "        newlist.append(i**2)\n",
    "        print(newlist)"
   ]
  },
  {
   "cell_type": "code",
   "execution_count": 239,
   "id": "48382355-6b7c-48cf-bee9-ca10ec58a8e5",
   "metadata": {},
   "outputs": [
    {
     "name": "stdout",
     "output_type": "stream",
     "text": [
      "[4, 5, 5, 4]\n"
     ]
    }
   ],
   "source": [
    "mylist=[\"sonu\",\"balas\",\"hello\",\"guys\"]\n",
    "newlist=[]\n",
    "for i in mylist:\n",
    "    if(type(i) is str):\n",
    "        newlist.append(len(i))\n",
    "print(newlist)\n"
   ]
  },
  {
   "cell_type": "code",
   "execution_count": 243,
   "id": "79eafa14-36be-4397-9745-7b1fe379a3c9",
   "metadata": {},
   "outputs": [
    {
     "name": "stdout",
     "output_type": "stream",
     "text": [
      "[6, 4, 10, 5]\n"
     ]
    }
   ],
   "source": [
    "mylist=[\"tushar\",\"sonu\",\"hellokseho\",\"mitra\"]\n",
    "newlist=[]\n",
    "for i in mylist:\n",
    "    if(type(i) is str):\n",
    "        newlist.append(len(i)) \n",
    "print(newlist)"
   ]
  }
 ],
 "metadata": {
  "kernelspec": {
   "display_name": "Python 3 (ipykernel)",
   "language": "python",
   "name": "python3"
  },
  "language_info": {
   "codemirror_mode": {
    "name": "ipython",
    "version": 3
   },
   "file_extension": ".py",
   "mimetype": "text/x-python",
   "name": "python",
   "nbconvert_exporter": "python",
   "pygments_lexer": "ipython3",
   "version": "3.12.4"
  }
 },
 "nbformat": 4,
 "nbformat_minor": 5
}
