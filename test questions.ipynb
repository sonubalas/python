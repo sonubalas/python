{
 "cells": [
  {
   "cell_type": "code",
   "execution_count": 115,
   "id": "c6b5939a-1f49-46b2-857d-ec38a44cfb5f",
   "metadata": {},
   "outputs": [
    {
     "name": "stdout",
     "output_type": "stream",
     "text": [
      "totel is 54\n"
     ]
    }
   ],
   "source": [
    "totel=0\n",
    "n=10\n",
    "while(n>1):\n",
    "    totel=totel+n\n",
    "    n=n-1\n",
    "print(\"totel is\" ,totel)\n",
    "    "
   ]
  },
  {
   "cell_type": "code",
   "execution_count": 109,
   "id": "fb4d50fc-d2d3-4edd-9e1b-8b07740ad2d8",
   "metadata": {},
   "outputs": [
    {
     "name": "stdout",
     "output_type": "stream",
     "text": [
      "j\n"
     ]
    }
   ],
   "source": [
    "print(\"j\")"
   ]
  },
  {
   "cell_type": "code",
   "execution_count": 49,
   "id": "36def1a3-218f-4ba3-aae7-9a13fb1cb1de",
   "metadata": {},
   "outputs": [
    {
     "name": "stdout",
     "output_type": "stream",
     "text": [
      "1\n",
      "2\n",
      "3\n",
      "4\n",
      "5\n",
      "6\n",
      "7\n",
      "8\n",
      "9\n"
     ]
    }
   ],
   "source": [
    "i=1\n",
    "while(i<10):\n",
    "    print(i)\n",
    "    i=i+1"
   ]
  },
  {
   "cell_type": "code",
   "execution_count": 39,
   "id": "1977adb7-22ec-46be-b935-dd4f73dd1ccc",
   "metadata": {},
   "outputs": [
    {
     "name": "stdout",
     "output_type": "stream",
     "text": [
      "2\n",
      "4\n",
      "6\n",
      "8\n"
     ]
    }
   ],
   "source": [
    "a=10\n",
    "i=1\n",
    "while(i<a):\n",
    "    if(i%2==0):\n",
    "        print(i)\n",
    "    i=i+1"
   ]
  },
  {
   "cell_type": "code",
   "execution_count": 13,
   "id": "2c2ecc7b-b585-4fbf-b048-095980bca5d2",
   "metadata": {},
   "outputs": [
    {
     "name": "stdout",
     "output_type": "stream",
     "text": [
      "1\n",
      "2\n",
      "3\n",
      "4\n",
      "5\n",
      "6\n"
     ]
    }
   ],
   "source": [
    "n=0\n",
    "while(n<6):\n",
    "    n=n+1\n",
    "    print(n)"
   ]
  },
  {
   "cell_type": "code",
   "execution_count": 35,
   "id": "ad3afb88-3c3a-4efc-93cf-78b3d5bc58fb",
   "metadata": {},
   "outputs": [
    {
     "name": "stdout",
     "output_type": "stream",
     "text": [
      "8\n",
      "7\n",
      "6\n",
      "5\n",
      "4\n",
      "3\n",
      "2\n",
      "1\n"
     ]
    }
   ],
   "source": [
    "b=8\n",
    "while(b>0):\n",
    "    print(b)\n",
    "    b=b-1"
   ]
  },
  {
   "cell_type": "code",
   "execution_count": null,
   "id": "1a7a4175-f587-4b3b-91b7-46e426c5d6e3",
   "metadata": {},
   "outputs": [],
   "source": []
  },
  {
   "cell_type": "code",
   "execution_count": 17,
   "id": "c6fdca83-3ced-41c0-9ed7-ba035766ac21",
   "metadata": {},
   "outputs": [
    {
     "name": "stdout",
     "output_type": "stream",
     "text": [
      "1334\n"
     ]
    }
   ],
   "source": [
    "totel=0\n",
    "for i in range(80,35,-1):\n",
    "    if(i%2==0):\n",
    "        totel=totel+i \n",
    "print(totel)"
   ]
  },
  {
   "cell_type": "code",
   "execution_count": 3,
   "id": "949e20d4-dc5c-45b6-b424-c7c8ce4af951",
   "metadata": {},
   "outputs": [
    {
     "name": "stdout",
     "output_type": "stream",
     "text": [
      "45\n"
     ]
    }
   ],
   "source": [
    "totel=0\n",
    "n=1\n",
    "while(n<10):\n",
    "    totel=totel+n\n",
    "    n=n+1\n",
    "print(totel)"
   ]
  },
  {
   "cell_type": "code",
   "execution_count": null,
   "id": "48b83167-aa93-473d-9578-5113684b1fb2",
   "metadata": {},
   "outputs": [],
   "source": [
    "#test \n",
    "\n"
   ]
  },
  {
   "cell_type": "code",
   "execution_count": 23,
   "id": "ab2edf65-11b9-4a54-93a4-479c25f6217c",
   "metadata": {},
   "outputs": [
    {
     "name": "stdin",
     "output_type": "stream",
     "text": [
      "enter a number 6\n"
     ]
    },
    {
     "name": "stdout",
     "output_type": "stream",
     "text": [
      "1\n",
      "2\n",
      "3\n",
      "4\n",
      "5\n",
      "6\n"
     ]
    }
   ],
   "source": [
    "## test questions  ==>>>\n",
    "# ques 1st --> all the number from 1 to int=N  ?.\n",
    "\n",
    "N=int(input(\"enter a number\"))\n",
    "i=0\n",
    "while(i<N):\n",
    "    i=i+1\n",
    "    print(i)"
   ]
  },
  {
   "cell_type": "code",
   "execution_count": 41,
   "id": "bc57e2b8-32c6-4cf2-86bd-a34c5fa77a78",
   "metadata": {},
   "outputs": [
    {
     "name": "stdin",
     "output_type": "stream",
     "text": [
      "enter a number 5\n"
     ]
    },
    {
     "name": "stdout",
     "output_type": "stream",
     "text": [
      "sum of i is  15\n"
     ]
    }
   ],
   "source": [
    "#question 2 --->>\n",
    "# sum number from 1 to N -->>>\n",
    "\n",
    "N=int(input(\"enter a number\"))\n",
    "sum=0\n",
    "i=0\n",
    "while(i<N):\n",
    "    i=i+1\n",
    "    sum=sum+i\n",
    "print(\"sum of i is \",sum)"
   ]
  },
  {
   "cell_type": "code",
   "execution_count": 87,
   "id": "e924518a-173b-4a4c-9d7d-93643c0ded79",
   "metadata": {},
   "outputs": [
    {
     "name": "stdin",
     "output_type": "stream",
     "text": [
      "enter a number 8\n"
     ]
    },
    {
     "name": "stdout",
     "output_type": "stream",
     "text": [
      "factorial is 36\n"
     ]
    }
   ],
   "source": [
    "#questions  3 ---->>\n",
    "#factorial number --->>\n",
    "\n",
    "N=int(input(\"enter a number\"))\n",
    "f=1\n",
    "while(N>f):\n",
    "    f *=n\n",
    "    N+=N\n",
    "print(\"factorial is\",f)\n",
    "\n",
    "\n"
   ]
  },
  {
   "cell_type": "code",
   "execution_count": 93,
   "id": "58b105dc-dbac-47d0-a141-bf849a6277fd",
   "metadata": {},
   "outputs": [
    {
     "name": "stdin",
     "output_type": "stream",
     "text": [
      "enter a number 2\n"
     ]
    },
    {
     "name": "stdout",
     "output_type": "stream",
     "text": [
      "7\n",
      "6\n",
      "5\n",
      "4\n",
      "3\n",
      "2\n"
     ]
    }
   ],
   "source": [
    "#ques = 4 --->>\n",
    "\n",
    "N=int(input(\"enter a number\"))\n",
    "i=8\n",
    "while(i>N):\n",
    "    i=i-1\n",
    "    print(i)"
   ]
  },
  {
   "cell_type": "code",
   "execution_count": 95,
   "id": "c272a6d9-d7ae-4f54-9daa-e332284d7fbc",
   "metadata": {},
   "outputs": [
    {
     "name": "stdin",
     "output_type": "stream",
     "text": [
      "enter a number 10\n"
     ]
    },
    {
     "name": "stdout",
     "output_type": "stream",
     "text": [
      "2\n",
      "4\n",
      "6\n",
      "8\n",
      "10\n"
     ]
    }
   ],
   "source": [
    "#ques 5 == >>>\n",
    "\n",
    "N=int(input(\"enter a number\"))\n",
    "i=1\n",
    "while(i<N):\n",
    "    i=i+1\n",
    "    if(i%2==0):\n",
    "        print(i)"
   ]
  },
  {
   "cell_type": "code",
   "execution_count": 163,
   "id": "e3a9e7b0-10ff-4bd1-8128-5886113d8523",
   "metadata": {},
   "outputs": [
    {
     "name": "stdin",
     "output_type": "stream",
     "text": [
      "enter a number 6\n"
     ]
    },
    {
     "name": "stdout",
     "output_type": "stream",
     "text": [
      "totel is 30\n"
     ]
    }
   ],
   "source": [
    "#question == 6 --->>\n",
    "\n",
    "\n",
    "N=int(input(\"enter a number\"))\n",
    "totel=0\n",
    "i=1\n",
    "while(i<N):\n",
    "    totel=totel+N\n",
    "    i=i+1\n",
    "print(\"totel is\", totel)"
   ]
  },
  {
   "cell_type": "code",
   "execution_count": 169,
   "id": "fa2fff3b-2379-4351-99ea-da38ddb01979",
   "metadata": {},
   "outputs": [
    {
     "name": "stdin",
     "output_type": "stream",
     "text": [
      "enter number 9\n"
     ]
    },
    {
     "name": "stdout",
     "output_type": "stream",
     "text": [
      "totel sum is 36\n"
     ]
    }
   ],
   "source": [
    "# ques =7 --->>\n",
    "n=int(input(\"enter number\"))\n",
    "i=0\n",
    "sum=0\n",
    "while(i<n):\n",
    "    sum=sum+i\n",
    "    i=i+1\n",
    "print(\"totel sum is\",sum)\n"
   ]
  }
 ],
 "metadata": {
  "kernelspec": {
   "display_name": "Python 3 (ipykernel)",
   "language": "python",
   "name": "python3"
  },
  "language_info": {
   "codemirror_mode": {
    "name": "ipython",
    "version": 3
   },
   "file_extension": ".py",
   "mimetype": "text/x-python",
   "name": "python",
   "nbconvert_exporter": "python",
   "pygments_lexer": "ipython3",
   "version": "3.12.4"
  }
 },
 "nbformat": 4,
 "nbformat_minor": 5
}
