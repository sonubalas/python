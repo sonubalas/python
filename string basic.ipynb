{
 "cells": [
  {
   "cell_type": "code",
   "execution_count": 7,
   "id": "33917889-5651-4494-a719-cde1825d7533",
   "metadata": {},
   "outputs": [
    {
     "name": "stdout",
     "output_type": "stream",
     "text": [
      "hello jaipur\n",
      "hello rajasthan\n",
      " hello ji\n",
      "this is a multiline string\n"
     ]
    }
   ],
   "source": [
    "#single line string\n",
    "a='hello jaipur'\n",
    "# double line string\n",
    "b=\"hello rajasthan\"\n",
    "#multiline string\n",
    "\n",
    "c=''' hello ji\n",
    "this is a multiline string'''\n",
    "print(a)\n",
    "print(b)\n",
    "print(c)\n"
   ]
  },
  {
   "cell_type": "code",
   "execution_count": 19,
   "id": "95a52168-4687-414b-8971-6dddd60a19ab",
   "metadata": {},
   "outputs": [
    {
     "name": "stdout",
     "output_type": "stream",
     "text": [
      "t\n",
      "p\n",
      "h\n"
     ]
    }
   ],
   "source": [
    "#indexing -->>\n",
    "#started from 0 and length start from 1-->\n",
    "\n",
    "\n",
    "my_string=\"python\"\n",
    "print(my_string[2])\n",
    "print(my_string[0])\n",
    "print(my_string[-3])"
   ]
  },
  {
   "cell_type": "code",
   "execution_count": 119,
   "id": "3211e2c3-fd82-45a1-88ee-04b516434a6f",
   "metadata": {},
   "outputs": [
    {
     "name": "stdout",
     "output_type": "stream",
     "text": [
      "i a\n",
      "am f\n",
      "m from\n",
      " am from \n",
      " from jai\n"
     ]
    }
   ],
   "source": [
    "a=\"i am from jaipur\"\n",
    "#slicing\n",
    "print(a[0:3])\n",
    "print(a[2:6])\n",
    "print(a[3:9])\n",
    "print(a[1:10])\n",
    "print(a[-12:-3])"
   ]
  },
  {
   "cell_type": "code",
   "execution_count": 7,
   "id": "750da364-3822-412c-974b-fd8e419167e8",
   "metadata": {},
   "outputs": [
    {
     "name": "stdout",
     "output_type": "stream",
     "text": [
      "ashishsir\n"
     ]
    }
   ],
   "source": [
    "# string concate\n",
    "a=\"ashish\"+\"sir\"\n",
    "print(a)\n"
   ]
  },
  {
   "cell_type": "code",
   "execution_count": 67,
   "id": "e51d9a7a-3dea-495b-a3c8-eba0cbc0e3d0",
   "metadata": {},
   "outputs": [
    {
     "data": {
      "text/plain": [
       "'samsamsam'"
      ]
     },
     "execution_count": 67,
     "metadata": {},
     "output_type": "execute_result"
    }
   ],
   "source": [
    "a=\"sam\"*3\n",
    "a"
   ]
  },
  {
   "cell_type": "code",
   "execution_count": 77,
   "id": "46075a5e-e00d-4aa7-a04b-886872888975",
   "metadata": {},
   "outputs": [
    {
     "name": "stdout",
     "output_type": "stream",
     "text": [
      "True\n",
      "False\n",
      "False\n"
     ]
    }
   ],
   "source": [
    "#string in mystring\n",
    "\n",
    "my_string=\"python prpgraming\"\n",
    "print(\"python\" in my_string)\n",
    "print(\"java\" in my_string)\n",
    "print(\"python\" not in my_string)"
   ]
  },
  {
   "cell_type": "code",
   "execution_count": 9,
   "id": "514873dc-9451-4c79-9fe6-88d1a6e009e1",
   "metadata": {},
   "outputs": [
    {
     "name": "stdout",
     "output_type": "stream",
     "text": [
      "REDU\n",
      "redu\n"
     ]
    }
   ],
   "source": [
    "# changing string small letter and capital letter-->\n",
    "a=\"redu\"\n",
    "print(a.upper())\n",
    "print(a.lower())"
   ]
  },
  {
   "cell_type": "code",
   "execution_count": 103,
   "id": "5d077730-f099-484e-a145-8fd2c628cd6b",
   "metadata": {},
   "outputs": [
    {
     "name": "stdout",
     "output_type": "stream",
     "text": [
      "radius\n"
     ]
    }
   ],
   "source": [
    "a=\"RADIUS\"\n",
    "print(a.lower())"
   ]
  },
  {
   "cell_type": "code",
   "execution_count": 111,
   "id": "e5a1eb61-b331-430d-83bc-06167341ea73",
   "metadata": {},
   "outputs": [
    {
     "name": "stdout",
     "output_type": "stream",
     "text": [
      "hello, world!\n"
     ]
    }
   ],
   "source": [
    "text=\"  hello, world!\"\n",
    "print(text.strip())"
   ]
  },
  {
   "cell_type": "code",
   "execution_count": 117,
   "id": "3564d1a4-cca8-4b08-8d31-5f0065c65ca3",
   "metadata": {},
   "outputs": [
    {
     "name": "stdout",
     "output_type": "stream",
     "text": [
      "i love codding\n"
     ]
    }
   ],
   "source": [
    "#replace(): replace a substribg with a stirng\n",
    "\n",
    "text=\"i love python\"\n",
    "print(text.replace(\"python\",\"codding\"))"
   ]
  },
  {
   "cell_type": "code",
   "execution_count": 123,
   "id": "d346fed3-d2c0-44ff-a37f-c74c096b260e",
   "metadata": {},
   "outputs": [
    {
     "name": "stdout",
     "output_type": "stream",
     "text": [
      "['apple ,banana ,cherry']\n"
     ]
    }
   ],
   "source": [
    "#split():  split a string into a list.\n",
    "text=\"apple ,banana ,cherry\"\n",
    "print(text.split(\", \"))"
   ]
  },
  {
   "cell_type": "code",
   "execution_count": 37,
   "id": "9532056b-4e42-4e09-b128-9466b596c3f1",
   "metadata": {},
   "outputs": [
    {
     "name": "stdout",
     "output_type": "stream",
     "text": [
      "apple, cherry, banana\n"
     ]
    }
   ],
   "source": [
    "#join():  join a element of a list into a single string:\n",
    "fruits=['apple','cherry','banana']\n",
    "print(\", \".join(fruits))"
   ]
  },
  {
   "cell_type": "code",
   "execution_count": 143,
   "id": "f8d8241f-a265-4093-bf26-0008ded1643d",
   "metadata": {},
   "outputs": [
    {
     "name": "stdout",
     "output_type": "stream",
     "text": [
      "my name is sam and my age is 15\n"
     ]
    }
   ],
   "source": [
    "# string formating -->\n",
    "\n",
    "name=\"sam\"\n",
    "age=15\n",
    "print(f\"my name is {name} and my age is {age}\")"
   ]
  },
  {
   "cell_type": "code",
   "execution_count": 11,
   "id": "fca0f340-0722-43cc-8534-c3eeaf4381ca",
   "metadata": {},
   "outputs": [
    {
     "name": "stdin",
     "output_type": "stream",
     "text": [
      "enter the name sonu\n",
      "enter the age 21\n"
     ]
    },
    {
     "name": "stdout",
     "output_type": "stream",
     "text": [
      "my name is sonu and my age is 21\n"
     ]
    }
   ],
   "source": [
    "name=str(input(\"enter the name\"))\n",
    "age=int(input(\"enter the age\"))\n",
    "print(f\"my name is {name} and my age is {age}\")"
   ]
  },
  {
   "cell_type": "code",
   "execution_count": 157,
   "id": "149d3712-1652-4ee6-a804-11250f6e1bcb",
   "metadata": {},
   "outputs": [],
   "source": [
    "# quote =\"she said, \"hello!\"\"\n",
    "# ascaped_quote='she said,\\\"hello\"\\'\n",
    "# print(quote)\n",
    "# print(escaped_quote)"
   ]
  },
  {
   "cell_type": "code",
   "execution_count": 159,
   "id": "921088ac-3e2b-4598-b6b2-d2f61277ec63",
   "metadata": {},
   "outputs": [],
   "source": [
    "#commets ===>>>\n",
    "# 1.->inline comments-->> single line comment\n",
    "# 2.-\n",
    "# multi line string->> present in '''   '''\n",
    "#  or \"\"\"  \"\"\"\n"
   ]
  },
  {
   "cell_type": "code",
   "execution_count": 308,
   "id": "42228e5c-a7f0-4003-91b9-6f78ad2367e9",
   "metadata": {},
   "outputs": [
    {
     "name": "stdout",
     "output_type": "stream",
     "text": [
      "7\n"
     ]
    }
   ],
   "source": [
    "a=\"sourabh\"\n",
    "print(len(a))"
   ]
  },
  {
   "cell_type": "code",
   "execution_count": 33,
   "id": "68912644-0d49-4f0e-a2e8-39bf18048c43",
   "metadata": {},
   "outputs": [
    {
     "name": "stdout",
     "output_type": "stream",
     "text": [
      "True\n"
     ]
    }
   ],
   "source": [
    "# for check digit and number\n",
    "a=\"123abcd\"\n",
    "print (a.isalnum())"
   ]
  },
  {
   "cell_type": "code",
   "execution_count": 68,
   "id": "c8b1a329-5fc5-4cb6-ad9b-ed6451ef87d3",
   "metadata": {},
   "outputs": [],
   "source": [
    "#for reverse number\n",
    "a = 123235"
   ]
  },
  {
   "cell_type": "code",
   "execution_count": 17,
   "id": "6812a87d-04e8-4e47-be01-fa92d31753c7",
   "metadata": {},
   "outputs": [
    {
     "name": "stdout",
     "output_type": "stream",
     "text": [
      "System\n"
     ]
    }
   ],
   "source": [
    "a=\"system\"\n",
    "print(a.capitalize())"
   ]
  },
  {
   "cell_type": "code",
   "execution_count": 23,
   "id": "be8d17b9-210b-43ed-925c-3361901e238a",
   "metadata": {},
   "outputs": [
    {
     "name": "stdout",
     "output_type": "stream",
     "text": [
      "hello\n"
     ]
    }
   ],
   "source": [
    "# question strings\n",
    "\n",
    "# give a string s =\"hello\", how would youreverse it using slicing ?\n",
    "\n",
    "s=\"hello\"\n",
    "print(s)"
   ]
  },
  {
   "cell_type": "code",
   "execution_count": 189,
   "id": "c4f3c87a-bba5-4f86-be5c-03f3da8ccfd0",
   "metadata": {},
   "outputs": [
    {
     "data": {
      "text/plain": [
       "'gram'"
      ]
     },
     "execution_count": 189,
     "metadata": {},
     "output_type": "execute_result"
    }
   ],
   "source": [
    "#question 1.\n",
    "text=\"programming\"\n",
    "text[3:7]"
   ]
  },
  {
   "cell_type": "code",
   "execution_count": 72,
   "id": "7a6197a2-1555-434c-9f5c-a9b67cff50cb",
   "metadata": {},
   "outputs": [
    {
     "name": "stdout",
     "output_type": "stream",
     "text": [
      "nohtyp\n"
     ]
    }
   ],
   "source": [
    "##question 2.\n",
    "s=\"python\"\n",
    "print(s[: :-1])"
   ]
  },
  {
   "cell_type": "code",
   "execution_count": 39,
   "id": "e7151af9-84ef-4777-bc43-603e2c22fe19",
   "metadata": {},
   "outputs": [
    {
     "name": "stdout",
     "output_type": "stream",
     "text": [
      "3\n"
     ]
    }
   ],
   "source": [
    "#question 3\n",
    "s=\"banana\"\n",
    "print(s.count('a'))\n"
   ]
  },
  {
   "cell_type": "code",
   "execution_count": 217,
   "id": "39cd6339-9b13-4300-a12f-0f419ca50435",
   "metadata": {},
   "outputs": [
    {
     "name": "stdout",
     "output_type": "stream",
     "text": [
      "HELLO,WORLD\n"
     ]
    }
   ],
   "source": [
    "#question 4.\n",
    "s=\"hello,world\"\n",
    "print(s.upper())"
   ]
  },
  {
   "cell_type": "code",
   "execution_count": null,
   "id": "f61a5a85-452b-4f65-a5e8-6f91820d517f",
   "metadata": {},
   "outputs": [],
   "source": []
  },
  {
   "cell_type": "code",
   "execution_count": 117,
   "id": "84f28ad9-15ab-47b2-a865-2738c72b736e",
   "metadata": {},
   "outputs": [
    {
     "name": "stdout",
     "output_type": "stream",
     "text": [
      "4\n"
     ]
    }
   ],
   "source": [
    "s = \"hello world\"\n",
    "index_of_o = s.find('o')\n",
    "print(index_of_o)"
   ]
  },
  {
   "cell_type": "code",
   "execution_count": 269,
   "id": "625eefee-3477-43c7-8680-69dd95cfc178",
   "metadata": {},
   "outputs": [
    {
     "name": "stdout",
     "output_type": "stream",
     "text": [
      "12\n",
      "hello\n"
     ]
    }
   ],
   "source": [
    "s=\"hello, world\"\n",
    "print(len(s))\n",
    "print(s[0:5])"
   ]
  },
  {
   "cell_type": "code",
   "execution_count": null,
   "id": "2c29b596-e3cf-43f5-967c-219f54a27275",
   "metadata": {},
   "outputs": [],
   "source": []
  },
  {
   "cell_type": "code",
   "execution_count": 306,
   "id": "2605d3c2-cd5d-461c-ab5d-b33e7eb00979",
   "metadata": {},
   "outputs": [
    {
     "name": "stdout",
     "output_type": "stream",
     "text": [
      "True\n"
     ]
    }
   ],
   "source": [
    "# number and charecter \n",
    "\n",
    "s='abc123'\n",
    "print(s.isalnum())"
   ]
  },
  {
   "cell_type": "code",
   "execution_count": 63,
   "id": "55d0d1a8-1294-4843-9926-c21dc43a1b75",
   "metadata": {},
   "outputs": [
    {
     "name": "stdout",
     "output_type": "stream",
     "text": [
      "hello\n"
     ]
    }
   ],
   "source": [
    "#remove all leading and trailing whitespace-->>\n",
    "\n",
    "s = \"   hello  \"\n",
    "print(s.strip())"
   ]
  },
  {
   "cell_type": "code",
   "execution_count": 90,
   "id": "e1e5dac8-6cd2-4ed5-9acc-e17b2402ad7d",
   "metadata": {},
   "outputs": [
    {
     "name": "stdout",
     "output_type": "stream",
     "text": [
      "['apple  , banana , cherry']\n"
     ]
    }
   ],
   "source": [
    "#split the string into a list -->>\n",
    "\n",
    "s = \"apple  , banana , cherry\"\n",
    "print(s.split(\",  \"))"
   ]
  },
  {
   "cell_type": "code",
   "execution_count": null,
   "id": "77827d1b-5073-4329-bd71-7b7f1e0f3c04",
   "metadata": {},
   "outputs": [],
   "source": []
  },
  {
   "cell_type": "code",
   "execution_count": 121,
   "id": "cc88d954-9950-4688-9dde-cd623d305099",
   "metadata": {},
   "outputs": [
    {
     "name": "stdout",
     "output_type": "stream",
     "text": [
      "python is fun\n"
     ]
    }
   ],
   "source": [
    "#join the list into a string-->>\n",
    "\n",
    "words = [\"python\", \"is\", \"fun\"]\n",
    "print(\" \".join(words))\n"
   ]
  },
  {
   "cell_type": "code",
   "execution_count": 141,
   "id": "e2eb6c25-cef0-49b3-abb4-9528546c5716",
   "metadata": {},
   "outputs": [
    {
     "name": "stdout",
     "output_type": "stream",
     "text": [
      "consonent is h\n",
      "consonent is d\n",
      "consonent is g\n",
      "consonent is d\n",
      "consonent is y\n",
      "consonent is f\n",
      "consonent is b\n",
      "consonent is w\n",
      "consonent is h\n",
      "consonent is v\n",
      "consonent is d\n",
      "consonent is h\n",
      "consonent is g\n",
      "consonent is h\n"
     ]
    }
   ],
   "source": [
    "#in string consonent are there ->>\n",
    "str=\"aeiouhdgdyefbewhvdhgh\"\n",
    "for x in str:\n",
    "    if x not in \"aeiou\":\n",
    "        print(\"consonent is\" ,x)"
   ]
  },
  {
   "cell_type": "code",
   "execution_count": 192,
   "id": "76a76e73-7476-463f-baf7-7e2d318ae503",
   "metadata": {},
   "outputs": [
    {
     "name": "stdout",
     "output_type": "stream",
     "text": [
      "          * \n",
      "        * * \n",
      "      * * * \n",
      "    * * * * \n",
      "  * * * * * \n"
     ]
    }
   ],
   "source": [
    "for i in range(1,6):\n",
    "    for j in range(i,6):\n",
    "        print(\" \",end=\" \")\n",
    "    for k in range(1,i+1):\n",
    "        print(\"*\",end=\" \")\n",
    "    print()\n",
    "\n",
    "    "
   ]
  }
 ],
 "metadata": {
  "kernelspec": {
   "display_name": "Python 3 (ipykernel)",
   "language": "python",
   "name": "python3"
  },
  "language_info": {
   "codemirror_mode": {
    "name": "ipython",
    "version": 3
   },
   "file_extension": ".py",
   "mimetype": "text/x-python",
   "name": "python",
   "nbconvert_exporter": "python",
   "pygments_lexer": "ipython3",
   "version": "3.12.4"
  }
 },
 "nbformat": 4,
 "nbformat_minor": 5
}
