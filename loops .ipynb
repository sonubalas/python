{
 "cells": [
  {
   "cell_type": "code",
   "execution_count": 145,
   "id": "48e59a85-80c2-404c-b2e9-4fdd1256c56e",
   "metadata": {},
   "outputs": [
    {
     "name": "stdout",
     "output_type": "stream",
     "text": [
      "1\n",
      "2\n",
      "3\n",
      "4\n",
      "5\n"
     ]
    }
   ],
   "source": [
    "\n",
    "for i in range(1,6):\n",
    "    print(i)"
   ]
  },
  {
   "cell_type": "code",
   "execution_count": 147,
   "id": "28f2f62c-60f4-4c1b-a3a9-be763ddcccea",
   "metadata": {},
   "outputs": [
    {
     "name": "stdout",
     "output_type": "stream",
     "text": [
      "not a armstrong\n"
     ]
    }
   ],
   "source": [
    "n=153\n",
    "temp=n\n",
    "sum=0\n",
    "while(n>0):\n",
    "    rem=n%10\n",
    "    sum =sum+rem*rem*rem\n",
    "    n=n/10\n",
    "if(temp==sum):\n",
    "    print(\"armstrong\")\n",
    "else:\n",
    "    print(\"not a armstrong\")"
   ]
  },
  {
   "cell_type": "code",
   "execution_count": 51,
   "id": "289bd204-f7dc-4bc8-abb1-78821cfa7175",
   "metadata": {},
   "outputs": [
    {
     "name": "stdout",
     "output_type": "stream",
     "text": [
      "vovel\n"
     ]
    }
   ],
   "source": [
    "char='h'\n",
    "if 'aeiou':\n",
    "    print(\"vovel\")\n",
    "else:\n",
    "    print(\"consonent\")"
   ]
  },
  {
   "cell_type": "code",
   "execution_count": 1,
   "id": "906c597f-23a7-4549-901a-9c0ab1531c3b",
   "metadata": {},
   "outputs": [
    {
     "name": "stdout",
     "output_type": "stream",
     "text": [
      "50 greater than 20\n",
      "49 greater than 20\n",
      "48 greater than 20\n",
      "47 greater than 20\n",
      "46 greater than 20\n",
      "45 greater than 20\n",
      "44 greater than 20\n",
      "43 greater than 20\n",
      "42 greater than 20\n",
      "41 greater than 20\n",
      "40 greater than 20\n",
      "39 greater than 20\n",
      "38 greater than 20\n",
      "37 greater than 20\n",
      "36 greater than 20\n",
      "35 greater than 20\n",
      "34 greater than 20\n",
      "33 greater than 20\n",
      "32 greater than 20\n",
      "31 greater than 20\n",
      "30 greater than 20\n",
      "29 greater than 20\n",
      "28 greater than 20\n",
      "27 greater than 20\n",
      "26 greater than 20\n"
     ]
    }
   ],
   "source": [
    "for i in range(50,25,-1):\n",
    "    if(i>20):\n",
    "        print(i,\"greater than 20\")\n",
    "    elif(i>10):\n",
    "        print(i,\"greater than 10\")\n",
    "    else:\n",
    "        print(\"greater than 50\")"
   ]
  },
  {
   "cell_type": "code",
   "execution_count": 55,
   "id": "6cbf8621-37ca-427d-96fc-b65a7e79db96",
   "metadata": {},
   "outputs": [],
   "source": [
    "# to get sum of first 50 natuural number\n",
    "# get the some of all the even number to 80 tp 35?"
   ]
  },
  {
   "cell_type": "code",
   "execution_count": 9,
   "id": "1cb77ba8-d280-46d4-bb1f-5db9104d7e69",
   "metadata": {},
   "outputs": [
    {
     "name": "stdout",
     "output_type": "stream",
     "text": [
      "1334\n"
     ]
    }
   ],
   "source": [
    "totel=0\n",
    "for i in range(80,35,-1):\n",
    "    if(i%2==0):\n",
    "        totel=totel+i \n",
    "print(totel)"
   ]
  },
  {
   "cell_type": "code",
   "execution_count": 11,
   "id": "e259dadc-3021-4125-b806-006500113046",
   "metadata": {},
   "outputs": [
    {
     "name": "stdout",
     "output_type": "stream",
     "text": [
      "2232\n"
     ]
    }
   ],
   "source": [
    "totel=0\n",
    "for x in range(98,25,-1):\n",
    "    if(x%2!=0):\n",
    "        totel=totel+x\n",
    "print(totel)\n"
   ]
  },
  {
   "cell_type": "code",
   "execution_count": 108,
   "id": "e513852a-9710-4c78-a800-60598a72a818",
   "metadata": {},
   "outputs": [
    {
     "name": "stdout",
     "output_type": "stream",
     "text": [
      "not a prime number\n"
     ]
    }
   ],
   "source": [
    "primeNo=9\n",
    "isprime=True\n",
    "for devide in range(2, primeNo):\n",
    "    if(primeNo%devide==0):\n",
    "        isprime=False\n",
    "        break\n",
    "if(isprime==True):\n",
    "    print(\"prime number\")\n",
    "else:\n",
    "    print(\"not a prime number\")"
   ]
  },
  {
   "cell_type": "code",
   "execution_count": 106,
   "id": "67dd68b7-de69-4566-9e25-f6c964e76967",
   "metadata": {},
   "outputs": [
    {
     "name": "stdout",
     "output_type": "stream",
     "text": [
      "13 4\n"
     ]
    }
   ],
   "source": [
    " # sum of digit\n",
    "\n",
    "# x=134\n",
    "# rem1=x%10\n",
    "# x=x//10\n",
    "# print(x,rem1)"
   ]
  },
  {
   "cell_type": "code",
   "execution_count": 116,
   "id": "a074c160-91d1-4ccc-96f8-afec4addcd6d",
   "metadata": {},
   "outputs": [
    {
     "name": "stdout",
     "output_type": "stream",
     "text": [
      "\n",
      "Before devide 134\n",
      "after devide 13\n",
      "\n",
      "Before devide 13\n",
      "after devide 1\n",
      "\n",
      "Before devide 1\n",
      "after devide 0\n",
      "totel 8\n"
     ]
    }
   ],
   "source": [
    "x=134\n",
    "i=x\n",
    "reminder=0\n",
    "while(i>0):\n",
    "    print(\"\\nBefore devide\",i)\n",
    "    reminder+=i%10\n",
    "    i=i//10\n",
    "    print(\"after devide\",i)\n",
    "print(\"totel\",reminder)"
   ]
  },
  {
   "cell_type": "code",
   "execution_count": 118,
   "id": "a2c7afd3-1640-49ce-a0c9-714285a0b29e",
   "metadata": {},
   "outputs": [],
   "source": [
    "# all the factor of number\n",
    "# x=12\n",
    "# i=x\n",
    "# while(i<=12):\n",
    "#     remider=0\n",
    "    \n",
    "    \n",
    "    \n",
    "    "
   ]
  },
  {
   "cell_type": "code",
   "execution_count": null,
   "id": "e042b3b0-5ef9-45a6-a499-fa26d8df841e",
   "metadata": {},
   "outputs": [],
   "source": []
  },
  {
   "cell_type": "code",
   "execution_count": 1,
   "id": "e71651c5-ad47-4a4b-ba94-c460132384cf",
   "metadata": {},
   "outputs": [
    {
     "name": "stdin",
     "output_type": "stream",
     "text": [
      "Enter a number:  20\n"
     ]
    },
    {
     "name": "stdout",
     "output_type": "stream",
     "text": [
      "Factorial of 20 is 2432902008176640000\n"
     ]
    }
   ],
   "source": [
    "# def factorial(n):\n",
    "#     if n == 0 or n == 1:\n",
    "#         return 1\n",
    "#     else:\n",
    "#         return n * factorial(n - 1)\n",
    "\n",
    "# # Input: Get a number from the user\n",
    "# number = int(input(\"Enter a number: \"))\n",
    "\n",
    "# # Output: Calculate and print the factorial\n",
    "# if number < 0:\n",
    "#     print(\"Factorial is not defined for negative numbers.\")\n",
    "# else:09\n",
    "#     print(f\"Factorial of {number} is {factorial(number)}\")"
   ]
  },
  {
   "cell_type": "code",
   "execution_count": 9,
   "id": "626416a5-947d-4b3f-a1d8-9900b21bfde6",
   "metadata": {},
   "outputs": [
    {
     "name": "stdin",
     "output_type": "stream",
     "text": [
      "enter the number 15\n"
     ]
    },
    {
     "name": "stdout",
     "output_type": "stream",
     "text": [
      "ffactorial of{number} is {factorial number}\n"
     ]
    }
   ],
   "source": [
    "number=int(input(\"enter the number\"))\n",
    "if number<0:\n",
    "    print(\"factorial is not fefined negetive number\")\n",
    "else:\n",
    "    print(\"ffactorial of{number} is {factorial number}\")\n",
    "    "
   ]
  },
  {
   "cell_type": "code",
   "execution_count": 33,
   "id": "fb1a8322-1985-4255-aac9-c30f2f0572a4",
   "metadata": {},
   "outputs": [
    {
     "name": "stdout",
     "output_type": "stream",
     "text": [
      "arm number btw 100 and 500 is\n",
      "153\n",
      "370\n",
      "371\n",
      "407\n"
     ]
    }
   ],
   "source": [
    "#armstrong number btw 100 to 500\n",
    "\n",
    "def armstrong(num):\n",
    "    hund=num//100\n",
    "    ten=(num%100)//10\n",
    "    one=num%10\n",
    "    sum_of_cubes=(hund**3)+(ten**3)+(one**3)\n",
    "    return sum_of_cube==num\n",
    "print(\"arm number btw 100 and 500 is\")\n",
    "for number in range(100,501):\n",
    "    if is_armstrong(number):\n",
    "         print(number)"
   ]
  },
  {
   "cell_type": "code",
   "execution_count": null,
   "id": "37476cfb-fdc2-429f-891b-757abc0abfeb",
   "metadata": {},
   "outputs": [],
   "source": []
  },
  {
   "cell_type": "code",
   "execution_count": 30,
   "id": "42c49a52-2bfb-48d1-b950-7affaebd50de",
   "metadata": {},
   "outputs": [
    {
     "name": "stdin",
     "output_type": "stream",
     "text": [
      "enter the number 7\n"
     ]
    },
    {
     "name": "stdout",
     "output_type": "stream",
     "text": [
      "0\n",
      "1\n",
      "1\n",
      "2\n",
      "3\n",
      "5\n",
      "8\n"
     ]
    }
   ],
   "source": [
    "#febunachi series//\n",
    "n=int(input(\"enter the number\"))\n",
    "n1=0\n",
    "n2=1\n",
    "print(n1)\n",
    "print(n2)\n",
    "for i in range(2,n):\n",
    "    n3=n1+n2\n",
    "    n1=n2\n",
    "    n2=n3\n",
    "    print(n3)"
   ]
  },
  {
   "cell_type": "code",
   "execution_count": 12,
   "id": "df3e14bf-27d6-45bb-92ab-fdae06a38e93",
   "metadata": {},
   "outputs": [
    {
     "name": "stdout",
     "output_type": "stream",
     "text": [
      "30\n"
     ]
    }
   ],
   "source": [
    "sum=0\n",
    "for i in range(1,5):\n",
    "    sum=sum+i**2\n",
    "print(sum)"
   ]
  },
  {
   "cell_type": "code",
   "execution_count": null,
   "id": "bdfaf27b-5742-4b99-816d-ed1f5eac4fa8",
   "metadata": {},
   "outputs": [],
   "source": []
  },
  {
   "cell_type": "code",
   "execution_count": null,
   "id": "c7615d61-c616-420d-bad7-955e668ba9b3",
   "metadata": {},
   "outputs": [],
   "source": []
  }
 ],
 "metadata": {
  "kernelspec": {
   "display_name": "Python 3 (ipykernel)",
   "language": "python",
   "name": "python3"
  },
  "language_info": {
   "codemirror_mode": {
    "name": "ipython",
    "version": 3
   },
   "file_extension": ".py",
   "mimetype": "text/x-python",
   "name": "python",
   "nbconvert_exporter": "python",
   "pygments_lexer": "ipython3",
   "version": "3.12.4"
  }
 },
 "nbformat": 4,
 "nbformat_minor": 5
}
