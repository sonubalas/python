{
 "cells": [
  {
   "cell_type": "code",
   "execution_count": 5,
   "id": "aff521f0-5a2f-4a4b-b048-4ff54e58b9f9",
   "metadata": {},
   "outputs": [
    {
     "name": "stdout",
     "output_type": "stream",
     "text": [
      "1\n",
      "2\n",
      "3\n",
      "4\n"
     ]
    }
   ],
   "source": [
    "#looping\n",
    "#for loop ==>>>\n",
    "\n",
    "for i in range(1,5):\n",
    "    print(i)"
   ]
  },
  {
   "cell_type": "code",
   "execution_count": 3,
   "id": "02b570ee-c088-4a07-adea-168516524ca9",
   "metadata": {},
   "outputs": [
    {
     "name": "stdout",
     "output_type": "stream",
     "text": [
      "6\n"
     ]
    }
   ],
   "source": [
    "a=4\n",
    "b=2\n",
    "c=a+b\n",
    "print(c)"
   ]
  },
  {
   "cell_type": "code",
   "execution_count": 85,
   "id": "1fdfbdb7-1f90-4c59-ba73-544461df15c7",
   "metadata": {},
   "outputs": [
    {
     "name": "stdout",
     "output_type": "stream",
     "text": [
      "eligible for driving lisence\n"
     ]
    }
   ],
   "source": [
    "age=22\n",
    "if(age>=18 and age<=25):\n",
    "    print(\"eligible for driving lisence\")\n",
    "elif(age==25):\n",
    "    print(\"eligible for vote\")\n",
    "else:\n",
    "    print(\"not eligible\")"
   ]
  },
  {
   "cell_type": "code",
   "execution_count": null,
   "id": "4a46c22a-3e80-4d9f-aed5-7260a35e26c6",
   "metadata": {},
   "outputs": [],
   "source": [
    "age=12"
   ]
  },
  {
   "cell_type": "code",
   "execution_count": null,
   "id": "2e4e4d7c-de44-487f-9acb-315d96221b96",
   "metadata": {},
   "outputs": [],
   "source": [
    "age=int(input(\"enter th value\"))\n",
    "if(age<10):\n",
    "    print(\"child\")\n",
    "elif(age>10 and age<25):\n",
    "    print(\"young\")\n",
    "elif(age>25 and age<40):\n",
    "    print(\"citizen\")\n",
    "else:\n",
    "    print(\"it is a older man\")\n",
    "    "
   ]
  },
  {
   "cell_type": "code",
   "execution_count": 133,
   "id": "ed18aeb9-5894-42b0-a629-62709b986424",
   "metadata": {},
   "outputs": [
    {
     "name": "stdin",
     "output_type": "stream",
     "text": [
      "enter the no. of unit 423\n"
     ]
    },
    {
     "name": "stdout",
     "output_type": "stream",
     "text": [
      "enter the number of amount 2730\n"
     ]
    }
   ],
   "source": [
    "amt=0\n",
    "unit=int(input(\"enter the no. of unit\"))\n",
    "if(unit<100):\n",
    "    amt=0\n",
    "if(unit>100 and unit<200):\n",
    "    amt=(unit-100)*5\n",
    "if(unit>200):\n",
    "    amt=500+(unit-200)*10\n",
    "print(\"enter the number of amount\" ,amt)\n"
   ]
  },
  {
   "cell_type": "code",
   "execution_count": null,
   "id": "5ee1feff-77ab-470e-9a28-b770ab47be33",
   "metadata": {},
   "outputs": [],
   "source": [
    "num=int(input(\"enter the number\"))\n",
    "if(num%5==0):\n",
    "        print(\"hello\")\n",
    "else:\n",
    "    print(\"bye\")\n",
    "    "
   ]
  },
  {
   "cell_type": "code",
   "execution_count": 127,
   "id": "76db2c67-5655-4480-a055-8bfb87f689b0",
   "metadata": {},
   "outputs": [
    {
     "name": "stdin",
     "output_type": "stream",
     "text": [
      "entered a number 49\n"
     ]
    },
    {
     "name": "stdout",
     "output_type": "stream",
     "text": [
      "number is devided by seven\n"
     ]
    }
   ],
   "source": [
    "num=int(input(\"entered a number\"))\n",
    "if(num%7==0):\n",
    "    print(\"number is devided by seven\")\n",
    "else:\n",
    "    print(\"number is not devided by seven\")"
   ]
  },
  {
   "cell_type": "code",
   "execution_count": 1,
   "id": "ef004761-5ff4-455e-9751-5cd164e22167",
   "metadata": {},
   "outputs": [
    {
     "name": "stdin",
     "output_type": "stream",
     "text": [
      "entered a number 32\n"
     ]
    },
    {
     "name": "stdout",
     "output_type": "stream",
     "text": [
      "this number is even\n"
     ]
    }
   ],
   "source": [
    "num=int(input(\"entered a number\"))\n",
    "if(num%2==0):\n",
    "    print(\"this number is even\")\n",
    "else:\n",
    "    print(\"thids nimber is odd\")\n",
    "    "
   ]
  },
  {
   "cell_type": "code",
   "execution_count": null,
   "id": "05db498e-c309-4835-9860-635edca44461",
   "metadata": {},
   "outputs": [],
   "source": []
  },
  {
   "cell_type": "code",
   "execution_count": 13,
   "id": "f84b9c77-4596-4547-9584-ba65f80d56ef",
   "metadata": {},
   "outputs": [
    {
     "name": "stdin",
     "output_type": "stream",
     "text": [
      "enter the number 6578\n"
     ]
    },
    {
     "name": "stdout",
     "output_type": "stream",
     "text": [
      "last digit of number is 8\n"
     ]
    }
   ],
   "source": [
    "num=int(input(\"enter the number\"))\n",
    "print(\"last digit of number is\" ,num%10)"
   ]
  },
  {
   "cell_type": "markdown",
   "id": "b3220195-5fef-4a8a-961a-3093770f803e",
   "metadata": {},
   "source": []
  },
  {
   "cell_type": "code",
   "execution_count": null,
   "id": "c1634709-de35-4b86-b854-2ce337a888d5",
   "metadata": {},
   "outputs": [],
   "source": [
    "num=int(input(\"enter the number\"))\n",
    "num%10==0\n",
    "if num%3==0:\n",
    "    print(\"last digit number is devided by 3\")\n",
    "else:\n",
    "    print(\"last digit number is not devided by 3\")"
   ]
  },
  {
   "cell_type": "code",
   "execution_count": null,
   "id": "feda3c0f-6d52-4dca-9a58-0b21585e4e56",
   "metadata": {},
   "outputs": [],
   "source": []
  },
  {
   "cell_type": "code",
   "execution_count": null,
   "id": "8a8dfe7f-4419-4afd-8c02-099380412651",
   "metadata": {},
   "outputs": [],
   "source": []
  },
  {
   "cell_type": "code",
   "execution_count": 17,
   "id": "6eeaae25-856f-415b-88c2-987fb7c86fb4",
   "metadata": {},
   "outputs": [
    {
     "name": "stdin",
     "output_type": "stream",
     "text": [
      "enter a year 2006\n"
     ]
    },
    {
     "name": "stdout",
     "output_type": "stream",
     "text": [
      "this is leap year\n"
     ]
    }
   ],
   "source": [
    "yr=int(input(\"enter a year\"))\n",
    "if(yr%400==0 and yr%4==0 or yr%100!=0 ):\n",
    "    \n",
    "    print(\"this is leap year\")\n",
    "else:\n",
    "    print(\"not a leap year\")\n",
    "    "
   ]
  },
  {
   "cell_type": "code",
   "execution_count": 21,
   "id": "2d677be3-c18a-411c-bb65-932eb7a9b065",
   "metadata": {},
   "outputs": [
    {
     "name": "stdin",
     "output_type": "stream",
     "text": [
      "enter the number 12\n"
     ]
    },
    {
     "name": "stdout",
     "output_type": "stream",
     "text": [
      "entered the number \n"
     ]
    }
   ],
   "source": [
    "num=int(input(\"enter the number\"))\n",
    "if num==1:\n",
    "    print(\"sunday\")\n",
    "elif num==2:\n",
    "    print(\"monday\")\n",
    "elif num==3:\n",
    "    print(\"tuesday\")\n",
    "elif num==4:\n",
    "    print(\"wednessday\")\n",
    "elif num==5:\n",
    "    print(\"friday\")\n",
    "elif num==6:\n",
    "    print(\"suterday\")\n",
    "else:\n",
    "    print(\"entered the number \")"
   ]
  },
  {
   "cell_type": "code",
   "execution_count": null,
   "id": "874123a1-f8ea-4e9a-987c-2d4646ba4df6",
   "metadata": {},
   "outputs": [],
   "source": [
    "i=6\n",
    "while(i>0):\n",
    "    print(i,end=\" \")\n",
    "    i=i-1"
   ]
  },
  {
   "cell_type": "code",
   "execution_count": null,
   "id": "764ad5c1-6dcd-4e35-8bef-1e5498b46348",
   "metadata": {},
   "outputs": [],
   "source": [
    "#armstrong number\n",
    "num=int(input('enter the number'))\n",
    "sum=0\n",
    "for i in num:\n",
    "    sum+=int(i)**3\n",
    "if sum==int(num):\n",
    "    print(\"armstrong number\")\n",
    "else:\n",
    "    print(\"not armstrong\")\n"
   ]
  },
  {
   "cell_type": "code",
   "execution_count": 7,
   "id": "f16cfd2f-20f9-4664-b6ca-6d817dc577bd",
   "metadata": {},
   "outputs": [
    {
     "name": "stdout",
     "output_type": "stream",
     "text": [
      "1\n",
      "2\n",
      "3\n",
      "4\n"
     ]
    }
   ],
   "source": [
    "#while loop ===>>>\n",
    "\n",
    "\n",
    "i=1\n",
    "while(i<5):\n",
    "    print(i)\n",
    "    i=i+1\n",
    "    "
   ]
  },
  {
   "cell_type": "code",
   "execution_count": null,
   "id": "32723d52-c27c-4cae-b78d-9f2a7ee8a0d4",
   "metadata": {},
   "outputs": [],
   "source": []
  },
  {
   "cell_type": "code",
   "execution_count": null,
   "id": "a27f8e13-528b-4e90-b57c-45f053a19986",
   "metadata": {},
   "outputs": [],
   "source": []
  },
  {
   "cell_type": "code",
   "execution_count": 1,
   "id": "b5029d67-c454-4ac2-8843-8c97f282b16f",
   "metadata": {},
   "outputs": [
    {
     "name": "stdout",
     "output_type": "stream",
     "text": [
      "8\n",
      "6\n",
      "4\n",
      "2\n"
     ]
    }
   ],
   "source": [
    "i=8\n",
    "while(0<i):\n",
    "    if(i%2==0):\n",
    "        print(i)\n",
    "    i=i-1\n",
    "    "
   ]
  },
  {
   "cell_type": "code",
   "execution_count": 1,
   "id": "dc97fe5f-aeed-4fa8-9752-bd2df21b1703",
   "metadata": {},
   "outputs": [
    {
     "name": "stdout",
     "output_type": "stream",
     "text": [
      "42\n",
      "28\n",
      "14\n"
     ]
    }
   ],
   "source": [
    "i=50\n",
    "while(i>0):\n",
    "    if(i%2==0 and i%7==0):\n",
    "        print(i)\n",
    "    i=i-1"
   ]
  },
  {
   "cell_type": "code",
   "execution_count": null,
   "id": "dd721b7d-6399-4c01-b0db-f375740b0349",
   "metadata": {},
   "outputs": [],
   "source": []
  },
  {
   "cell_type": "code",
   "execution_count": 9,
   "id": "fd423b62-b315-4cba-9660-b6872e14ec68",
   "metadata": {},
   "outputs": [
    {
     "name": "stdin",
     "output_type": "stream",
     "text": [
      " Enter a number : 50\n",
      "Enter a number:  60\n",
      "Enter a number:  70\n"
     ]
    },
    {
     "name": "stdout",
     "output_type": "stream",
     "text": [
      "tringle\n"
     ]
    }
   ],
   "source": [
    "angle1=int(input(\" Enter a number :\"))\n",
    "angle2=int(input(\"Enter a number: \"))\n",
    "angle3=int(input(\"Enter a number: \"))\n",
    "if angle1 +angle2 +angle3 ==180:\n",
    "    print(\"tringle\")\n",
    "else:\n",
    "    print(\"not angle\")\n"
   ]
  },
  {
   "cell_type": "code",
   "execution_count": 23,
   "id": "816b62a2-fed9-4e7d-ad2c-5502d474ba75",
   "metadata": {},
   "outputs": [
    {
     "name": "stdin",
     "output_type": "stream",
     "text": [
      "enter the value 56\n",
      "Enter a number % 98\n"
     ]
    },
    {
     "name": "stdout",
     "output_type": "stream",
     "text": [
      "hot and humid\n"
     ]
    }
   ],
   "source": [
    "temp=int(input(\"enter the number\"))\n",
    "humidity=int(input(\"Enter a number %\"))\n",
    "if(temp>=30 and humidity>=90):\n",
    "    print(\"hot and humid\")\n",
    "elif(temp>=30 and humidity<90):\n",
    "    print(\"hot\")\n",
    "elif(temp<30 and humidity>=90):\n",
    "    print(\"cool and huimd\")\n",
    "elif(temp<30 and humidity<90):\n",
    "    print(\"cool\")\n",
    "\n",
    "else:\n",
    "    print(\"invalid\")"
   ]
  },
  {
   "cell_type": "code",
   "execution_count": null,
   "id": "b6877c38-b796-40dc-b265-fec1099142db",
   "metadata": {},
   "outputs": [],
   "source": []
  },
  {
   "cell_type": "code",
   "execution_count": 41,
   "id": "44d779c1-b2b3-4f09-a393-566aa09d1317",
   "metadata": {},
   "outputs": [
    {
     "name": "stdin",
     "output_type": "stream",
     "text": [
      "enter the value 100\n",
      "Enter a value 50\n"
     ]
    },
    {
     "name": "stdout",
     "output_type": "stream",
     "text": [
      "loss 50\n"
     ]
    }
   ],
   "source": [
    "cp=int(input(\"enter the value\"))\n",
    "sp=int(input(\"Enter the value\"))\n",
    "if(cp<sp):\n",
    "    a=sp-cp\n",
    "    print(\"profit\",a)\n",
    "elif(sp<cp):\n",
    "    b=cp-sp\n",
    "    print(\"loss\",b)\n",
    "else:\n",
    "    print(\"enter a valid number\")"
   ]
  },
  {
   "cell_type": "code",
   "execution_count": null,
   "id": "bb7d3470-97d3-405d-803c-39a2fa96ece0",
   "metadata": {},
   "outputs": [],
   "source": []
  },
  {
   "cell_type": "code",
   "execution_count": null,
   "id": "f8f98000-6a46-4161-86df-b31aca8c1c2f",
   "metadata": {},
   "outputs": [],
   "source": []
  },
  {
   "cell_type": "code",
   "execution_count": null,
   "id": "b0541785-6a99-4bdb-b6df-fef082ad17af",
   "metadata": {},
   "outputs": [],
   "source": []
  }
 ],
 "metadata": {
  "kernelspec": {
   "display_name": "Python 3 (ipykernel)",
   "language": "python",
   "name": "python3"
  },
  "language_info": {
   "codemirror_mode": {
    "name": "ipython",
    "version": 3
   },
   "file_extension": ".py",
   "mimetype": "text/x-python",
   "name": "python",
   "nbconvert_exporter": "python",
   "pygments_lexer": "ipython3",
   "version": "3.12.4"
  }
 },
 "nbformat": 4,
 "nbformat_minor": 5
}
