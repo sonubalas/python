{
 "cells": [
  {
   "cell_type": "code",
   "execution_count": 1,
   "id": "852f616f-df9c-488f-bc98-79da7add2de2",
   "metadata": {},
   "outputs": [],
   "source": [
    "# totel python fron basic;'''\n",
    "# lower to higher level'''////"
   ]
  },
  {
   "cell_type": "code",
   "execution_count": 3,
   "id": "b65b40a4-daef-4fe1-ab90-cda11a6cbcb8",
   "metadata": {},
   "outputs": [],
   "source": [
    "# int=12,13,45\n",
    "# str=\"hiii\",\"hello\",\"print\"\n",
    "# float=1.2, 3.6, 67.45, 46,76,\n",
    "# bulien= true, false"
   ]
  },
  {
   "cell_type": "code",
   "execution_count": 33,
   "id": "a5bfff77-b3cf-4c95-94bb-cb352d9f607d",
   "metadata": {},
   "outputs": [
    {
     "name": "stdout",
     "output_type": "stream",
     "text": [
      "<class 'int'>\n",
      "<class 'str'>\n",
      "<class 'float'>\n",
      "<class 'bool'>\n"
     ]
    }
   ],
   "source": [
    "a=13\n",
    "print(type(a))\n",
    "\n",
    "b=\"hello\"\n",
    "print(type(b))\n",
    "\n",
    "c=12.34\n",
    "print(type(c))\n",
    "\n",
    "d=12>10\n",
    "print(type(d))"
   ]
  },
  {
   "cell_type": "code",
   "execution_count": 3,
   "id": "029c1f3a-4c95-4a7b-beb4-5c1f0665d58c",
   "metadata": {},
   "outputs": [
    {
     "name": "stdin",
     "output_type": "stream",
     "text": [
      "enter the number 23\n",
      "enter the number 34\n"
     ]
    },
    {
     "name": "stdout",
     "output_type": "stream",
     "text": [
      "2334\n"
     ]
    }
   ],
   "source": [
    "a=(input(\"enter the number\"))\n",
    "b=(input(\"enter the number\"))\n",
    "c=a+b\n",
    "print(c)\n",
    "\n"
   ]
  },
  {
   "cell_type": "code",
   "execution_count": 21,
   "id": "200b3cd4-77e8-4e4b-a6c5-6977e961289c",
   "metadata": {},
   "outputs": [
    {
     "name": "stdin",
     "output_type": "stream",
     "text": [
      "enter the name 54\n",
      "enter the name 32\n"
     ]
    },
    {
     "name": "stdout",
     "output_type": "stream",
     "text": [
      "86\n"
     ]
    }
   ],
   "source": [
    "a=int(input(\"enter the number\"))\n",
    "b=int(input(\"enter the number\"))\n",
    "c=a+b\n",
    "print(c)\n",
    "\n"
   ]
  },
  {
   "cell_type": "code",
   "execution_count": 29,
   "id": "4f9809a0-3be2-46ed-8d96-effd326b407b",
   "metadata": {},
   "outputs": [
    {
     "name": "stdin",
     "output_type": "stream",
     "text": [
      "enter the number 76\n",
      "enter the number 32\n"
     ]
    },
    {
     "name": "stdout",
     "output_type": "stream",
     "text": [
      "108.0\n"
     ]
    }
   ],
   "source": [
    "a=float(input(\"enter the number\"))\n",
    "b=float(input(\"enter the number\"))\n",
    "c=a+b\n",
    "print(c)\n",
    "\n"
   ]
  },
  {
   "cell_type": "code",
   "execution_count": 39,
   "id": "bc9822e3-3b48-470c-a6db-64126d90557b",
   "metadata": {},
   "outputs": [
    {
     "name": "stdout",
     "output_type": "stream",
     "text": [
      "hello\n"
     ]
    }
   ],
   "source": [
    "print(\"hello\")"
   ]
  },
  {
   "cell_type": "code",
   "execution_count": 51,
   "id": "9f6d044f-c27f-499d-a3ad-75bafd81e3fd",
   "metadata": {},
   "outputs": [
    {
     "name": "stdout",
     "output_type": "stream",
     "text": [
      "<class 'str'>\n"
     ]
    }
   ],
   "source": [
    "a=\"studio\"\n",
    "print(type(a))"
   ]
  },
  {
   "cell_type": "code",
   "execution_count": 5,
   "id": "38917d22-1430-4974-a3f6-a887fb8beead",
   "metadata": {},
   "outputs": [
    {
     "name": "stdout",
     "output_type": "stream",
     "text": [
      "my names  first charector is started from s\n",
      "<class 'str'>\n"
     ]
    }
   ],
   "source": [
    "c='my names  first charector is started from s'\n",
    "print(c)\n",
    "print(type(c))"
   ]
  },
  {
   "cell_type": "code",
   "execution_count": 21,
   "id": "1403792d-b0e0-4fa4-a57d-f61c081a557e",
   "metadata": {},
   "outputs": [
    {
     "name": "stdin",
     "output_type": "stream",
     "text": [
      "enter your age 12\n"
     ]
    },
    {
     "name": "stdout",
     "output_type": "stream",
     "text": [
      "child\n"
     ]
    }
   ],
   "source": [
    "\n",
    "#conditional selection in python\n",
    "\n",
    "a=int(input(\"enter your age\"))\n",
    "if(a>0 and a<20):\n",
    "    print(\"child\")\n",
    "elif(a>20 and a<40):\n",
    "    print(\"young\")\n",
    "elif(a>40 and a<60):\n",
    "    print(\"old\")\n",
    "else:\n",
    "    print(\"print your valid ege\")"
   ]
  },
  {
   "cell_type": "code",
   "execution_count": 39,
   "id": "340b9a83-59ea-450b-af66-72385b93ca4c",
   "metadata": {},
   "outputs": [
    {
     "name": "stdin",
     "output_type": "stream",
     "text": [
      "enter your name ram\n"
     ]
    },
    {
     "name": "stdout",
     "output_type": "stream",
     "text": [
      "yes\n"
     ]
    }
   ],
   "source": [
    "a=(input(\"enter your name\"))\n",
    "if(a==\"ram\"):\n",
    "    print(\"yes\")\n",
    "elif(a==\"gandhi\"):\n",
    "    print(\"desh premi\")\n",
    "elif(a==\"rahul gandhi\"):\n",
    "    print(\"desh drodhi\")\n",
    "else:\n",
    "    print(\"kuch nhi\")"
   ]
  },
  {
   "cell_type": "code",
   "execution_count": 47,
   "id": "96a4427d-6c41-4d84-a9d8-632f7eb5ceab",
   "metadata": {},
   "outputs": [
    {
     "name": "stdin",
     "output_type": "stream",
     "text": [
      "enter your cousre data analyst\n"
     ]
    },
    {
     "name": "stdout",
     "output_type": "stream",
     "text": [
      "enter youe valid course\n"
     ]
    }
   ],
   "source": [
    "a=input(\"enter your cousre\")\n",
    "if(a==\"python\"):\n",
    "    print(\"fees is 40k and duration is 8 month\")\n",
    "elif(a==\"java\"):\n",
    "    print(\"fees is 50k and duration is 0 month\")\n",
    "elif(a==\"data science\"):\n",
    "    print(\"than make your life perfactly\")\n",
    "else:\n",
    "    print(\"enter youe valid course\")"
   ]
  },
  {
   "cell_type": "code",
   "execution_count": 51,
   "id": "10b85c96-923c-4bd5-a737-a9dfff6a14d6",
   "metadata": {},
   "outputs": [],
   "source": [
    "# loops===>\n",
    "#loop in python ===>>>\n",
    "#starting value includes and last value exclude\n",
    "#synyex==>(starting ,stoping, step)'."
   ]
  },
  {
   "cell_type": "code",
   "execution_count": 55,
   "id": "93a954b7-b9b1-49ad-9cd5-cfbacbbe2f38",
   "metadata": {},
   "outputs": [
    {
     "name": "stdout",
     "output_type": "stream",
     "text": [
      "1\n",
      "2\n",
      "3\n",
      "4\n"
     ]
    }
   ],
   "source": [
    "#method 1\n",
    "for i in range(1,5):\n",
    "     print(i)"
   ]
  },
  {
   "cell_type": "code",
   "execution_count": 71,
   "id": "6ee0ee95-62c8-4390-8b91-0d1d3a9ee2ea",
   "metadata": {},
   "outputs": [
    {
     "name": "stdout",
     "output_type": "stream",
     "text": [
      "2\n",
      "5\n",
      "8\n"
     ]
    }
   ],
   "source": [
    "for i in range(2,9,3):\n",
    "    print(i)"
   ]
  },
  {
   "cell_type": "code",
   "execution_count": null,
   "id": "00363f08-88bc-44f6-98d3-27f31ba1368e",
   "metadata": {},
   "outputs": [],
   "source": [
    "#method 2\n",
    "a=\"ram\"\n",
    "for i in a:\n",
    "    print(i)"
   ]
  },
  {
   "cell_type": "code",
   "execution_count": 73,
   "id": "1182ad78-68f0-47e0-8df2-56b786a61a40",
   "metadata": {},
   "outputs": [
    {
     "name": "stdout",
     "output_type": "stream",
     "text": [
      "r a m "
     ]
    }
   ],
   "source": [
    "a=\"ram\"\n",
    "for i in a:\n",
    "    print(i,end=\" \")"
   ]
  },
  {
   "cell_type": "code",
   "execution_count": null,
   "id": "21adcfc9-e348-4540-9255-9ffd9d795e9e",
   "metadata": {},
   "outputs": [],
   "source": [
    "#loop ===>>\n",
    "\n",
    "#while loop==>\n",
    "#qus. # write a prigram to print 1 , 4?\n",
    "\n",
    "i=int(input(\"enter the value\"))\n",
    "n=int(input(\"enter the last number\"))\n",
    "p=int(input(\"enter the step size\"))\n",
    "while(i<=n):\n",
    "    print(i)\n",
    "    i=i+p"
   ]
  },
  {
   "cell_type": "code",
   "execution_count": 7,
   "id": "e818a538-f931-442f-83a3-1c65606ce01a",
   "metadata": {},
   "outputs": [
    {
     "name": "stdin",
     "output_type": "stream",
     "text": [
      "enter the value 23\n",
      "enter the last number 45\n",
      "enter the step size 23\n"
     ]
    }
   ],
   "source": [
    "i=int(input(\"enter the value\"))\n",
    "n=int(input(\"enter the last number\"))\n",
    "p=int(input(\"enter the step size\"))\n",
    "while(i>=n):\n",
    "    print(i)\n",
    "    i=i+p"
   ]
  },
  {
   "cell_type": "code",
   "execution_count": null,
   "id": "16ee8a61-8472-4e05-9154-eea5529c6c39",
   "metadata": {},
   "outputs": [],
   "source": []
  },
  {
   "cell_type": "code",
   "execution_count": 1,
   "id": "1766e656-1fdb-48a0-ac23-0e5802f906c5",
   "metadata": {},
   "outputs": [
    {
     "name": "stdin",
     "output_type": "stream",
     "text": [
      "enter the number 2\n"
     ]
    }
   ],
   "source": [
    "a=int(input(\"enter the number\"))\n",
    "b=5\n",
    "while(a>=b):\n",
    "    print(a)\n",
    "    b=b+1\n"
   ]
  },
  {
   "cell_type": "code",
   "execution_count": 7,
   "id": "6aa6490f-8f9f-407f-9f1f-660a22b1b92b",
   "metadata": {},
   "outputs": [
    {
     "name": "stdout",
     "output_type": "stream",
     "text": [
      "1\n",
      "2\n",
      "3\n",
      "4\n",
      "5\n"
     ]
    }
   ],
   "source": [
    "\n",
    "a=1\n",
    "while(a<6):\n",
    "    print(a)\n",
    "    a=a+1"
   ]
  },
  {
   "cell_type": "code",
   "execution_count": 13,
   "id": "e364f98e-6d56-4c44-8fec-9031810d1c47",
   "metadata": {},
   "outputs": [
    {
     "name": "stdout",
     "output_type": "stream",
     "text": [
      "8\n",
      "7\n",
      "6\n",
      "5\n",
      "4\n",
      "3\n",
      "2\n",
      "1\n"
     ]
    }
   ],
   "source": [
    "b=8\n",
    "while(b>0):\n",
    "    print(b)\n",
    "    b=b-1"
   ]
  },
  {
   "cell_type": "code",
   "execution_count": null,
   "id": "0dfb4c46-581b-49d9-ab7f-6659c32f181b",
   "metadata": {},
   "outputs": [],
   "source": [
    "a=input(\"enter a number\")\n",
    "b=1\n",
    "while(b<5):\n",
    "    print(b)\n",
    "    b=b+1"
   ]
  },
  {
   "cell_type": "code",
   "execution_count": 5,
   "id": "8e251fa3-374d-4f21-8a5d-5898929b7d8c",
   "metadata": {},
   "outputs": [
    {
     "name": "stdout",
     "output_type": "stream",
     "text": [
      "hii\n"
     ]
    }
   ],
   "source": [
    "print(\"hii\")"
   ]
  },
  {
   "cell_type": "code",
   "execution_count": 13,
   "id": "cd54cc8e-7e42-4628-a353-26b98f305257",
   "metadata": {},
   "outputs": [
    {
     "name": "stdin",
     "output_type": "stream",
     "text": [
      "enter a number 23\n"
     ]
    },
    {
     "name": "stdout",
     "output_type": "stream",
     "text": [
      "1\n",
      "2\n",
      "3\n",
      "4\n",
      "5\n",
      "6\n",
      "7\n",
      "8\n",
      "9\n"
     ]
    }
   ],
   "source": [
    "a=input(\"enter a number\")\n",
    "b=1\n",
    "while(b<10):\n",
    "    print(b)\n",
    "    b=b+1"
   ]
  },
  {
   "cell_type": "code",
   "execution_count": null,
   "id": "c9e97ee2-55b2-4fe0-a108-4b67ba319c40",
   "metadata": {},
   "outputs": [],
   "source": [
    "a=input(\"enter the number\")\n",
    "n=10\n",
    "while(10>1):\n",
    "    print(n)\n",
    "    n=n-1\n",
    "    \n"
   ]
  },
  {
   "cell_type": "code",
   "execution_count": null,
   "id": "2d0cee38-fbb0-4de1-96af-e36faa06a7c8",
   "metadata": {},
   "outputs": [],
   "source": [
    "N = int(input(\"Enter a number: \"))\n",
    "sum = 0\n",
    "count = 1\n",
    "while counter <= N:\n",
    "    sum += count\n",
    "    count += 1\n",
    "print(f\"The sum of numbers from 1 to {N} is: {sum}\")\n",
    "\n",
    "\n",
    "\n"
   ]
  },
  {
   "cell_type": "code",
   "execution_count": null,
   "id": "14430192-805a-4236-86b0-2dd879491e95",
   "metadata": {},
   "outputs": [],
   "source": [
    "n=10\n",
    "sum=0\n",
    "\n"
   ]
  }
 ],
 "metadata": {
  "kernelspec": {
   "display_name": "Python 3 (ipykernel)",
   "language": "python",
   "name": "python3"
  },
  "language_info": {
   "codemirror_mode": {
    "name": "ipython",
    "version": 3
   },
   "file_extension": ".py",
   "mimetype": "text/x-python",
   "name": "python",
   "nbconvert_exporter": "python",
   "pygments_lexer": "ipython3",
   "version": "3.12.4"
  }
 },
 "nbformat": 4,
 "nbformat_minor": 5
}
